{
 "cells": [
  {
   "cell_type": "code",
   "execution_count": 1,
   "id": "6008299c",
   "metadata": {},
   "outputs": [],
   "source": [
    "import cv2\n",
    "import numpy as np"
   ]
  },
  {
   "cell_type": "code",
   "execution_count": 2,
   "id": "e654705c",
   "metadata": {},
   "outputs": [],
   "source": [
    "img = cv2.imread('images/sunset.jpg')\n",
    "img = cv2.cvtColor(img, cv2.COLOR_BGR2RGB)\n",
    "img = cv2.resize(img, (300, 300))"
   ]
  },
  {
   "cell_type": "code",
   "execution_count": 3,
   "id": "9ef2bfca",
   "metadata": {},
   "outputs": [],
   "source": [
    "n = 5\n",
    "mask = np.ones((n, n), np.float32) / (n ** 2)"
   ]
  },
  {
   "cell_type": "code",
   "execution_count": 4,
   "id": "4a7339e2",
   "metadata": {},
   "outputs": [],
   "source": [
    "res        = cv2.filter2D(img, -5, mask)\n",
    "bilateral  = cv2.bilateralFilter(img, 7, 75, 75)\n",
    "blur       = cv2.blur(img, (5, 5))\n",
    "gblur      = cv2.GaussianBlur(img, (5, 5), 0)\n",
    "boxFilter  = cv2.boxFilter(img, 0, (5, 5), img)\n",
    "medianBlur = cv2.medianBlur(img, 7)"
   ]
  },
  {
   "cell_type": "code",
   "execution_count": 10,
   "id": "29a9bc4a",
   "metadata": {},
   "outputs": [],
   "source": [
    "cv2.imshow(\"original image\", img)\n",
    "cv2.imshow(\"filtered image\", res)\n",
    "cv2.imshow(\"bilateral image\", bilateral)\n",
    "cv2.imshow(\"Blured\", blur)\n",
    "cv2.imshow(\"Gaussian blur image\", gblur)\n",
    "cv2.imshow(\"Median blur image\", medianBlur)\n",
    "\n",
    "\n",
    "cv2.waitKey(0)\n",
    "cv2.destroyAllWindows()"
   ]
  },
  {
   "cell_type": "code",
   "execution_count": 9,
   "id": "72420542",
   "metadata": {},
   "outputs": [],
   "source": [
    "cv2.imshow('image', np.hstack((img, medianBlur, boxFilter, medianBlur)))\n",
    "\n",
    "cv2.waitKey(0)\n",
    "cv2.destroyAllWindows()"
   ]
  },
  {
   "cell_type": "code",
   "execution_count": null,
   "id": "8e70f7ba",
   "metadata": {},
   "outputs": [],
   "source": []
  }
 ],
 "metadata": {
  "kernelspec": {
   "display_name": "Python 3 (ipykernel)",
   "language": "python",
   "name": "python3"
  },
  "language_info": {
   "codemirror_mode": {
    "name": "ipython",
    "version": 3
   },
   "file_extension": ".py",
   "mimetype": "text/x-python",
   "name": "python",
   "nbconvert_exporter": "python",
   "pygments_lexer": "ipython3",
   "version": "3.10.4"
  }
 },
 "nbformat": 4,
 "nbformat_minor": 5
}
