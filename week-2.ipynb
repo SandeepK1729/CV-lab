{
 "cells": [
  {
   "cell_type": "code",
   "execution_count": 1,
   "id": "792eaab3",
   "metadata": {},
   "outputs": [],
   "source": [
    "import cv2\n",
    "import numpy as np"
   ]
  },
  {
   "cell_type": "code",
   "execution_count": 2,
   "id": "29ff50c8",
   "metadata": {},
   "outputs": [],
   "source": [
    "img = cv2.imread('lib2.jpg')\n",
    "arr = np.array(img)"
   ]
  },
  {
   "cell_type": "code",
   "execution_count": 5,
   "id": "0200352d",
   "metadata": {},
   "outputs": [
    {
     "name": "stdout",
     "output_type": "stream",
     "text": [
      "sum of img : 197608451\n",
      "mean of img : 71.47296404803241\n",
      "min of img : 0\n",
      "max of img : 255\n",
      "variance of img : 3809.6781181603105\n",
      "standard deviation of img : 61.722590015004315\n"
     ]
    }
   ],
   "source": [
    "print(f\"sum of img : {np.sum(arr)}\")\n",
    "print(f\"mean of img : {np.mean(arr)}\")\n",
    "print(f\"min of img : {np.min(arr)}\")\n",
    "print(f\"max of img : {np.max(arr)}\")\n",
    "print(f\"variance of img : {np.var(arr)}\")\n",
    "print(f\"standard deviation of img : {np.std(arr)}\")"
   ]
  },
  {
   "cell_type": "code",
   "execution_count": 4,
   "id": "619e2dde",
   "metadata": {},
   "outputs": [],
   "source": [
    "cv2.imshow('original image', img)\n",
    "cv2.waitKey(0)\n",
    "cv2.destroyAllWindows()"
   ]
  }
 ],
 "metadata": {
  "kernelspec": {
   "display_name": "Python 3 (ipykernel)",
   "language": "python",
   "name": "python3"
  },
  "language_info": {
   "codemirror_mode": {
    "name": "ipython",
    "version": 3
   },
   "file_extension": ".py",
   "mimetype": "text/x-python",
   "name": "python",
   "nbconvert_exporter": "python",
   "pygments_lexer": "ipython3",
   "version": "3.9.12"
  }
 },
 "nbformat": 4,
 "nbformat_minor": 5
}
