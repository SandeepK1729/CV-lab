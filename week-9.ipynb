{
 "cells": [
  {
   "cell_type": "code",
   "execution_count": 1,
   "id": "db110d13",
   "metadata": {},
   "outputs": [],
   "source": [
    "import cv2"
   ]
  },
  {
   "cell_type": "code",
   "execution_count": 2,
   "id": "6132fb0e",
   "metadata": {},
   "outputs": [],
   "source": [
    "img = cv2.imread(\"images/sky.jpg\")\n",
    "height, width = img.shape[:2]"
   ]
  },
  {
   "cell_type": "code",
   "execution_count": 3,
   "id": "787d6f96",
   "metadata": {},
   "outputs": [],
   "source": [
    "center = (width / 2, height / 2)"
   ]
  },
  {
   "cell_type": "code",
   "execution_count": 4,
   "id": "773df493",
   "metadata": {},
   "outputs": [],
   "source": [
    "dim = (120, 200)\n",
    "res = cv2.resize(img, dim)"
   ]
  },
  {
   "cell_type": "code",
   "execution_count": 5,
   "id": "be04ef2c",
   "metadata": {},
   "outputs": [
    {
     "data": {
      "text/plain": [
       "True"
      ]
     },
     "execution_count": 5,
     "metadata": {},
     "output_type": "execute_result"
    }
   ],
   "source": [
    "cv2.imshow(\"resized image\", res)\n",
    "cv2.imwrite(\"images/sky-1.jpg\", res)"
   ]
  },
  {
   "cell_type": "code",
   "execution_count": 6,
   "id": "b73a62ae",
   "metadata": {},
   "outputs": [],
   "source": [
    "rotate_matrix = cv2.getRotationMatrix2D(\n",
    "                    center = center,\n",
    "                    angle  = 65,\n",
    "                    scale  = 1\n",
    "                )"
   ]
  },
  {
   "cell_type": "code",
   "execution_count": 9,
   "id": "9f608af4",
   "metadata": {},
   "outputs": [],
   "source": [
    "rotated_img = cv2.warpAffine(\n",
    "                src   = res,\n",
    "                M     = rotate_matrix,\n",
    "                dsize = (width, height)\n",
    "            )"
   ]
  },
  {
   "cell_type": "code",
   "execution_count": 10,
   "id": "ec28c671",
   "metadata": {},
   "outputs": [],
   "source": [
    "cv2.imshow(\"original image\", img)\n",
    "cv2.imshow(\"rotated image\" , rotated_img)\n",
    "cv2.waitKey(0)\n",
    "cv2.destroyAllWindows()"
   ]
  }
 ],
 "metadata": {
  "kernelspec": {
   "display_name": "Python 3 (ipykernel)",
   "language": "python",
   "name": "python3"
  },
  "language_info": {
   "codemirror_mode": {
    "name": "ipython",
    "version": 3
   },
   "file_extension": ".py",
   "mimetype": "text/x-python",
   "name": "python",
   "nbconvert_exporter": "python",
   "pygments_lexer": "ipython3",
   "version": "3.10.4"
  }
 },
 "nbformat": 4,
 "nbformat_minor": 5
}
