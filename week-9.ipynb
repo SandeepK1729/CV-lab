{
 "cells": [
  {
   "cell_type": "code",
   "execution_count": 1,
   "id": "529c14ca",
   "metadata": {},
   "outputs": [],
   "source": [
    "import cv2"
   ]
  },
  {
   "cell_type": "code",
   "execution_count": 2,
   "id": "fed87a1e",
   "metadata": {},
   "outputs": [],
   "source": [
    "img = cv2.imread(\"images/sky.jpg\")\n",
    "height, width = img.shape[:2]"
   ]
  },
  {
   "cell_type": "code",
   "execution_count": 5,
   "id": "91d41f20",
   "metadata": {},
   "outputs": [],
   "source": [
    "center = (width / 2, height / 2)"
   ]
  },
  {
   "cell_type": "code",
   "execution_count": 6,
   "id": "cb429fe0",
   "metadata": {},
   "outputs": [],
   "source": [
    "dim = (120, 200)\n",
    "res = cv2.resize(img, dim)"
   ]
  },
  {
   "cell_type": "code",
   "execution_count": 7,
   "id": "fcfe7c5e",
   "metadata": {},
   "outputs": [
    {
     "data": {
      "text/plain": [
       "True"
      ]
     },
     "execution_count": 7,
     "metadata": {},
     "output_type": "execute_result"
    }
   ],
   "source": [
    "cv2.imshow(\"resized image\", res)\n",
    "cv2.imwrite(\"images/sky-1.jpg\", res)"
   ]
  },
  {
   "cell_type": "code",
   "execution_count": 8,
   "id": "1807fe8f",
   "metadata": {},
   "outputs": [],
   "source": [
    "rotate_matrix = cv2.getRotationMatrix2D(\n",
    "                    center = center,\n",
    "                    angle  = 65,\n",
    "                    scale  = 1\n",
    "                )"
   ]
  },
  {
   "cell_type": "code",
   "execution_count": 18,
   "id": "099a7874",
   "metadata": {},
   "outputs": [],
   "source": [
    "rotated_img = cv2.warpAffine(\n",
    "                src   = img,\n",
    "                M     = rotate_matrix,\n",
    "                dsize = (width, height)\n",
    "            )"
   ]
  },
  {
   "cell_type": "code",
   "execution_count": null,
   "id": "4565235c",
   "metadata": {},
   "outputs": [],
   "source": [
    "cv2,i"
   ]
  },
  {
   "cell_type": "code",
   "execution_count": null,
   "id": "96b88a5e",
   "metadata": {},
   "outputs": [],
   "source": []
  }
 ],
 "metadata": {
  "kernelspec": {
   "display_name": "Python 3 (ipykernel)",
   "language": "python",
   "name": "python3"
  },
  "language_info": {
   "codemirror_mode": {
    "name": "ipython",
    "version": 3
   },
   "file_extension": ".py",
   "mimetype": "text/x-python",
   "name": "python",
   "nbconvert_exporter": "python",
   "pygments_lexer": "ipython3",
   "version": "3.10.4"
  }
 },
 "nbformat": 4,
 "nbformat_minor": 5
}
