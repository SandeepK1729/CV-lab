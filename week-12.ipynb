{
 "cells": [
  {
   "cell_type": "code",
   "execution_count": 7,
   "id": "b4ce589a",
   "metadata": {},
   "outputs": [],
   "source": [
    "import numpy as np\n",
    "import cv2\n",
    "from matplotlib import pyplot as plt"
   ]
  },
  {
   "cell_type": "code",
   "execution_count": 8,
   "id": "4eba9a52",
   "metadata": {},
   "outputs": [],
   "source": [
    "img      = cv2.imread('images/shapes.png')\n",
    "img      = cv2.resize(img, (300, 300))\n",
    "gray_img = cv2.cvtColor(img, cv2.COLOR_BGR2GRAY)\n",
    "\n",
    "show(gray_img)"
   ]
  },
  {
   "cell_type": "code",
   "execution_count": 9,
   "id": "43087f50",
   "metadata": {},
   "outputs": [],
   "source": [
    "ret, thresh_img = cv2.threshold(\n",
    "                    gray_img,          # gray image\n",
    "                    115,               # threshold value\n",
    "                    255,               # max value \n",
    "                    cv2.THRESH_BINARY  # algo type\n",
    "                )\n",
    "show(thresh_img)"
   ]
  },
  {
   "cell_type": "code",
   "execution_count": 10,
   "id": "e4f5ac88",
   "metadata": {},
   "outputs": [
    {
     "ename": "error",
     "evalue": "OpenCV(4.6.0) D:/a/opencv-python/opencv-python/opencv/modules/highgui/src/precomp.hpp:155: error: (-215:Assertion failed) src_depth != CV_16F && src_depth != CV_32S in function 'convertToShow'\n",
     "output_type": "error",
     "traceback": [
      "\u001b[1;31m---------------------------------------------------------------------------\u001b[0m",
      "\u001b[1;31merror\u001b[0m                                     Traceback (most recent call last)",
      "Input \u001b[1;32mIn [10]\u001b[0m, in \u001b[0;36m<cell line: 7>\u001b[1;34m()\u001b[0m\n\u001b[0;32m      1\u001b[0m contours, _ \u001b[38;5;241m=\u001b[39m cv2\u001b[38;5;241m.\u001b[39mfindContours(\n\u001b[0;32m      2\u001b[0m                 thresh_img,\n\u001b[0;32m      3\u001b[0m                 cv2\u001b[38;5;241m.\u001b[39mRETR_TREE,\n\u001b[0;32m      4\u001b[0m                 cv2\u001b[38;5;241m.\u001b[39mCHAIN_APPROX_SIMPLE\n\u001b[0;32m      5\u001b[0m             )\n\u001b[0;32m      7\u001b[0m \u001b[38;5;28;01mfor\u001b[39;00m contour \u001b[38;5;129;01min\u001b[39;00m contours:\n\u001b[1;32m----> 8\u001b[0m     \u001b[43mshow\u001b[49m\u001b[43m(\u001b[49m\u001b[43mcontour\u001b[49m\u001b[43m,\u001b[49m\u001b[43m \u001b[49m\u001b[38;5;241;43m2\u001b[39;49m\u001b[43m)\u001b[49m\n",
      "Input \u001b[1;32mIn [6]\u001b[0m, in \u001b[0;36mshow\u001b[1;34m(img, time)\u001b[0m\n\u001b[0;32m      1\u001b[0m \u001b[38;5;28;01mdef\u001b[39;00m \u001b[38;5;21mshow\u001b[39m(img, time \u001b[38;5;241m=\u001b[39m \u001b[38;5;241m1\u001b[39m):\n\u001b[1;32m----> 3\u001b[0m     \u001b[43mcv2\u001b[49m\u001b[38;5;241;43m.\u001b[39;49m\u001b[43mimshow\u001b[49m\u001b[43m(\u001b[49m\u001b[38;5;124;43m'\u001b[39;49m\u001b[38;5;124;43mimg\u001b[39;49m\u001b[38;5;124;43m'\u001b[39;49m\u001b[43m,\u001b[49m\u001b[43m \u001b[49m\u001b[43mimg\u001b[49m\u001b[43m)\u001b[49m\n\u001b[0;32m      4\u001b[0m     cv2\u001b[38;5;241m.\u001b[39mwaitKey(time \u001b[38;5;241m*\u001b[39m \u001b[38;5;241m1000\u001b[39m)\n\u001b[0;32m      5\u001b[0m     cv2\u001b[38;5;241m.\u001b[39mdestroyAllWindows()\n",
      "\u001b[1;31merror\u001b[0m: OpenCV(4.6.0) D:/a/opencv-python/opencv-python/opencv/modules/highgui/src/precomp.hpp:155: error: (-215:Assertion failed) src_depth != CV_16F && src_depth != CV_32S in function 'convertToShow'\n"
     ]
    }
   ],
   "source": [
    "contours, _ = cv2.findContours(\n",
    "                thresh_img,\n",
    "                cv2.RETR_TREE,\n",
    "                cv2.CHAIN_APPROX_SIMPLE\n",
    "            )\n",
    "\n",
    "for contour in contours:\n",
    "    show(contour, 2)"
   ]
  },
  {
   "cell_type": "code",
   "execution_count": null,
   "id": "423c4921",
   "metadata": {},
   "outputs": [],
   "source": [
    "# intializing a black background\n",
    "res = np.zeros(img.shape)"
   ]
  },
  {
   "cell_type": "code",
   "execution_count": null,
   "id": "9f46e9ae",
   "metadata": {},
   "outputs": [],
   "source": [
    "shape_mapper = {\n",
    "    3 : 'Triangle',\n",
    "    4 : 'Quadralateral',\n",
    "    5 : 'Pentagon',\n",
    "    6 : 'Hexagon',\n",
    "    7 : 'Heptagon',\n",
    "    8 : 'Octagon',\n",
    "    9 : 'Nanogon',\n",
    "    10 : 'Decagon',\n",
    "}\n",
    "\"\"\"\n",
    "def getShape(vertices):\n",
    "    print(vertices)\n",
    "    return shape_mapper.get(len(vertices), 'Circle')\"\"\"\n",
    "\n",
    "getShape = lambda vertices : shape_mapper.get(len(vertices), 'Circle')"
   ]
  },
  {
   "cell_type": "code",
   "execution_count": null,
   "id": "09bdf243",
   "metadata": {},
   "outputs": [],
   "source": [
    "for contour in contours:\n",
    "    approx = cv2.approxPolyDP(\n",
    "                contour,                               # closed curve or object \n",
    "                0.01 * cv2.arcLength(contour, True),\n",
    "                True\n",
    "        )\n",
    "    \n",
    "    # drawing contour into black background\n",
    "    cv2.drawContours(\n",
    "                res,               # destination background\n",
    "                [contour],         # contours going to draw\n",
    "                0,                 \n",
    "                [0, 255, 255],     # color of draw\n",
    "                3                  # thickness\n",
    "            )\n",
    "    \"\"\"\n",
    "    # skips to next iteration when this contour having no closed curve\n",
    "    if len(approx) < 3:\n",
    "        continue\n",
    "    \n",
    "    \n",
    "    # finding the coordinates of contour using moments\n",
    "    M = cv2.moments(contour)\n",
    "    if M['m00'] != 0.0:\n",
    "        x, y = map(int, (M['m10'] / M['m00'], M['m01'] / M['m00']))\n",
    "    \n",
    "    \n",
    "    # putting shape name below the shape\n",
    "    cv2.putText(\n",
    "        res,                       # result image or background\n",
    "        getShape(approx),          # getting shape from vertices\n",
    "        (x, y - 10),               # coordinates from button-left corner\n",
    "        cv2.FONT_HERSHEY_SIMPLEX,  # font family\n",
    "        0.6,                       # font size\n",
    "        (0, 255, 255),             # font color\n",
    "        3                          # font thickness\n",
    "    )\"\"\""
   ]
  },
  {
   "cell_type": "code",
   "execution_count": null,
   "id": "e966d09d",
   "metadata": {},
   "outputs": [],
   "source": [
    "plt.imshow(res)\n",
    "plt.show()\n",
    "\n",
    "\"\"\"print(res)\n",
    "cv2.imshow(\"result\", res)\n",
    "cv2.waitKey()\n",
    "cv2.destroyAllWindows()\n",
    "\"\"\""
   ]
  },
  {
   "cell_type": "code",
   "execution_count": null,
   "id": "bc947f9c",
   "metadata": {},
   "outputs": [],
   "source": [
    "help(cv2.findContours)"
   ]
  },
  {
   "cell_type": "code",
   "execution_count": null,
   "id": "c30bfeb6",
   "metadata": {},
   "outputs": [],
   "source": [
    "dir(cv2)"
   ]
  },
  {
   "cell_type": "code",
   "execution_count": null,
   "id": "42403c4d",
   "metadata": {},
   "outputs": [],
   "source": [
    "def show(img, time = 1):\n",
    "    \n",
    "    cv2.imshow('img', img)\n",
    "    cv2.waitKey(time * 1000)\n",
    "    cv2.destroyAllWindows()"
   ]
  },
  {
   "cell_type": "code",
   "execution_count": null,
   "id": "7052700d",
   "metadata": {},
   "outputs": [],
   "source": []
  }
 ],
 "metadata": {
  "kernelspec": {
   "display_name": "Python 3 (ipykernel)",
   "language": "python",
   "name": "python3"
  },
  "language_info": {
   "codemirror_mode": {
    "name": "ipython",
    "version": 3
   },
   "file_extension": ".py",
   "mimetype": "text/x-python",
   "name": "python",
   "nbconvert_exporter": "python",
   "pygments_lexer": "ipython3",
   "version": "3.10.4"
  },
  "vscode": {
   "interpreter": {
    "hash": "cd54ff46e4251fe0a46f903cca0c8aff900098562f2fe569ebafc85f4881e67a"
   }
  }
 },
 "nbformat": 4,
 "nbformat_minor": 5
}
