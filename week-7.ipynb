{
 "cells": [
  {
   "cell_type": "markdown",
   "id": "7f3ed32b",
   "metadata": {},
   "source": [
    "Write a program to implement SURF / SIFT / HOG detector"
   ]
  },
  {
   "cell_type": "code",
   "execution_count": 1,
   "id": "751da714",
   "metadata": {},
   "outputs": [],
   "source": [
    "import numpy as np\n",
    "import cv2"
   ]
  },
  {
   "cell_type": "code",
   "execution_count": 2,
   "id": "aacb8463",
   "metadata": {},
   "outputs": [],
   "source": [
    "img = cv2.imread('images/sky.jpg')\n",
    "gray_img = cv2.cvtColor(img, cv2.COLOR_BGR2GRAY)"
   ]
  },
  {
   "cell_type": "code",
   "execution_count": 3,
   "id": "7c05bb3b",
   "metadata": {},
   "outputs": [],
   "source": [
    "sift_obj = cv2.SIFT_create()"
   ]
  },
  {
   "cell_type": "code",
   "execution_count": 4,
   "id": "4b596822",
   "metadata": {},
   "outputs": [],
   "source": [
    "key_points = sift_obj.detect(gray_img)"
   ]
  },
  {
   "cell_type": "code",
   "execution_count": 6,
   "id": "184749de",
   "metadata": {},
   "outputs": [],
   "source": [
    "img = cv2.drawKeypoints(gray_img, key_points, img)"
   ]
  },
  {
   "cell_type": "code",
   "execution_count": 7,
   "id": "e784e665",
   "metadata": {},
   "outputs": [],
   "source": [
    "img = cv2.resize(\n",
    "        img, \n",
    "        (300, 300)\n",
    "    )\n",
    "\n",
    "cv2.imshow(\"output\", img)\n",
    "cv2.waitKey(0)\n",
    "cv2.destroyAllWindows()"
   ]
  }
 ],
 "metadata": {
  "kernelspec": {
   "display_name": "Python 3 (ipykernel)",
   "language": "python",
   "name": "python3"
  },
  "language_info": {
   "codemirror_mode": {
    "name": "ipython",
    "version": 3
   },
   "file_extension": ".py",
   "mimetype": "text/x-python",
   "name": "python",
   "nbconvert_exporter": "python",
   "pygments_lexer": "ipython3",
   "version": "3.10.4"
  }
 },
 "nbformat": 4,
 "nbformat_minor": 5
}
