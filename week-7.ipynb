{
 "cells": [
  {
   "cell_type": "code",
   "execution_count": 1,
   "id": "1ed4df78",
   "metadata": {},
   "outputs": [],
   "source": [
    "import numpy as np\n",
    "import cv2"
   ]
  },
  {
   "cell_type": "code",
   "execution_count": 2,
   "id": "06361835",
   "metadata": {},
   "outputs": [],
   "source": [
    "img = cv2.resize(\n",
    "            cv2.imread(\"images/sky.jpg\"),\n",
    "            (300, 300)\n",
    "    )\n",
    "gray_img = cv2.cvtColor(img, cv2.COLOR_BGR2GRAY)"
   ]
  },
  {
   "cell_type": "code",
   "execution_count": 3,
   "id": "93dfaaad",
   "metadata": {},
   "outputs": [],
   "source": [
    "sift_obj = cv2.SIFT_create()\n",
    "keypoints = sift_obj.detect(gray_img)"
   ]
  },
  {
   "cell_type": "code",
   "execution_count": 4,
   "id": "342175fc",
   "metadata": {},
   "outputs": [],
   "source": [
    "img = cv2.drawKeypoints(gray_img, keypoints, img)\n",
    "img = cv2.resize(img, (300, 300))"
   ]
  },
  {
   "cell_type": "code",
   "execution_count": 5,
   "id": "1f8d762c",
   "metadata": {},
   "outputs": [],
   "source": [
    "cv2.imshow(\"Output\", img)\n",
    "cv2.waitKey(0)\n",
    "cv2.destroyAllWindows()"
   ]
  }
 ],
 "metadata": {
  "kernelspec": {
   "display_name": "Python 3 (ipykernel)",
   "language": "python",
   "name": "python3"
  },
  "language_info": {
   "codemirror_mode": {
    "name": "ipython",
    "version": 3
   },
   "file_extension": ".py",
   "mimetype": "text/x-python",
   "name": "python",
   "nbconvert_exporter": "python",
   "pygments_lexer": "ipython3",
   "version": "3.10.4"
  }
 },
 "nbformat": 4,
 "nbformat_minor": 5
}
