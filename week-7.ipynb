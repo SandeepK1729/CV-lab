{
 "cells": [
  {
   "cell_type": "code",
   "execution_count": 1,
   "id": "d6477aed",
   "metadata": {},
   "outputs": [],
   "source": [
    "import numpy as np\n",
    "import cv2"
   ]
  },
  {
   "cell_type": "code",
   "execution_count": 2,
   "id": "6418dc17",
   "metadata": {},
   "outputs": [],
   "source": [
    "img = cv2.resize(\n",
    "            cv2.imread(\"images/sky.jpg\"),\n",
    "            (300, 300)\n",
    "    )\n",
    "gray_img = cv2.cvtColor(img, cv2.COLOR_BGR2GRAY)"
   ]
  },
  {
   "cell_type": "code",
   "execution_count": 3,
   "id": "1fc6affa",
   "metadata": {},
   "outputs": [],
   "source": [
    "sift_obj = cv2.SIFT_create()\n",
    "keypoints = sift_obj.detect(gray_img)"
   ]
  },
  {
   "cell_type": "code",
   "execution_count": null,
   "id": "3fd3d22d",
   "metadata": {},
   "outputs": [],
   "source": [
    "img = cv2.drawKet"
   ]
  }
 ],
 "metadata": {
  "kernelspec": {
   "display_name": "Python 3 (ipykernel)",
   "language": "python",
   "name": "python3"
  },
  "language_info": {
   "codemirror_mode": {
    "name": "ipython",
    "version": 3
   },
   "file_extension": ".py",
   "mimetype": "text/x-python",
   "name": "python",
   "nbconvert_exporter": "python",
   "pygments_lexer": "ipython3",
   "version": "3.10.4"
  }
 },
 "nbformat": 4,
 "nbformat_minor": 5
}
