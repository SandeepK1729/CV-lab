{
 "cells": [
  {
   "cell_type": "code",
   "execution_count": 1,
   "id": "2e0b52b4",
   "metadata": {},
   "outputs": [],
   "source": [
    "import cv2"
   ]
  },
  {
   "cell_type": "code",
   "execution_count": 2,
   "id": "700a3183",
   "metadata": {},
   "outputs": [],
   "source": [
    "path = \"../../videos/\"\n",
    "\n",
    "source = \"sea.mp4\"\n",
    "destination = f\"copy-{source}\""
   ]
  },
  {
   "cell_type": "code",
   "execution_count": 3,
   "id": "af57d446",
   "metadata": {},
   "outputs": [],
   "source": [
    "cap = cv2.VideoCapture( path + source )\n",
    "\n",
    "if not cap.isOpened():\n",
    "    print(\"Error while Opening the file\")\n",
    "    exit(0)"
   ]
  },
  {
   "cell_type": "code",
   "execution_count": 4,
   "id": "26b5c5cc",
   "metadata": {},
   "outputs": [
    {
     "name": "stdout",
     "output_type": "stream",
     "text": [
      "Dimensions of video : 1920 * 1080\n",
      "Frames per second : 25 FPS\n",
      "Frame count : 298\n"
     ]
    }
   ],
   "source": [
    "# size of frame \n",
    "width  = int(cap.get(3))\n",
    "height = int(cap.get(4))\n",
    "print(f\"Dimensions of video : {width} * {height}\")\n",
    "\n",
    "# get the fps \n",
    "fps = int(cap.get(5))\n",
    "print(f\"Frames per second : { fps } FPS\")\n",
    "\n",
    "# Get frame count \n",
    "frame_count = int(cap.get(7))\n",
    "print(f\"Frame count : { frame_count }\")"
   ]
  },
  {
   "cell_type": "code",
   "execution_count": 5,
   "id": "64c14163",
   "metadata": {},
   "outputs": [],
   "source": [
    "#width = 300\n",
    "#height = 300"
   ]
  },
  {
   "cell_type": "code",
   "execution_count": 6,
   "id": "e412dce2",
   "metadata": {},
   "outputs": [],
   "source": [
    "res = cv2.VideoWriter(\n",
    "    path + destination, \n",
    "    cv2.VideoWriter_fourcc('m', 'p', '4', 'v'),\n",
    "    fps,\n",
    "    (width, height)\n",
    ")"
   ]
  },
  {
   "cell_type": "code",
   "execution_count": 7,
   "id": "5a206bb0",
   "metadata": {},
   "outputs": [
    {
     "name": "stdout",
     "output_type": "stream",
     "text": [
      "\n",
      "Video Completed\n",
      "\n"
     ]
    }
   ],
   "source": [
    "while cap.isOpened() : \n",
    "\n",
    "    ret, frame = cap.read()\n",
    "    \n",
    "    if not ret:\n",
    "        print(\"\\nVideo Completed\\n\")\n",
    "        break\n",
    "    \n",
    "    img = cv2.resize(frame, (width, height))\n",
    "    cv2.imshow(\"Video\", img)\n",
    "    \n",
    "    res.write(img)\n",
    "    key = cv2.waitKey(int(1000 / fps))\n",
    "    \n",
    "    if key != -1 and chr(key) in ('q', 'Q'):\n",
    "        print(\"You Closed the video\")\n",
    "        break\n",
    "        \n",
    "    \n",
    "cv2.destroyAllWindows()\n",
    "cap.release()\n",
    "res.release()"
   ]
  },
  {
   "cell_type": "code",
   "execution_count": null,
   "id": "49b2a444",
   "metadata": {},
   "outputs": [],
   "source": []
  }
 ],
 "metadata": {
  "kernelspec": {
   "display_name": "Python 3 (ipykernel)",
   "language": "python",
   "name": "python3"
  },
  "language_info": {
   "codemirror_mode": {
    "name": "ipython",
    "version": 3
   },
   "file_extension": ".py",
   "mimetype": "text/x-python",
   "name": "python",
   "nbconvert_exporter": "python",
   "pygments_lexer": "ipython3",
   "version": "3.10.4"
  }
 },
 "nbformat": 4,
 "nbformat_minor": 5
}
