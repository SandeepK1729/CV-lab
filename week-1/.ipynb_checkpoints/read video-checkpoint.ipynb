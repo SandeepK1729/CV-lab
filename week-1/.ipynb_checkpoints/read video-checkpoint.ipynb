{
 "cells": [
  {
   "cell_type": "code",
   "execution_count": 23,
   "id": "516867c1",
   "metadata": {
    "scrolled": false
   },
   "outputs": [
    {
     "name": "stdout",
     "output_type": "stream",
     "text": [
      "Frames per second : 25.0FPS\n",
      "Frame count : 324.0\n",
      "You Closed the video\n"
     ]
    }
   ],
   "source": [
    "import cv2\n",
    "cap = cv2.VideoCapture(\"woman.mp4\")\n",
    "\n",
    "if not cap.isOpened():\n",
    "    print(\"Error while Opening the file\")\n",
    "    exit(0)\n",
    "    \n",
    "# get the fps \n",
    "print(f\"Frames per second : {cap.get(5)}FPS\")\n",
    "\n",
    "# Get frame count \n",
    "print(f\"Frame count : {cap.get(7)}\")\n",
    "\n",
    "\n",
    "while cap.isOpened():\n",
    "    ret, frame = cap.read()\n",
    "    \n",
    "    if not ret:\n",
    "        print(\"\\nVideo Completed\\n\")\n",
    "        break\n",
    "    \n",
    "    img = cv2.resize(frame, (300, 300))\n",
    "    cv2.imshow(\"Video\", img)\n",
    "    \n",
    "    key = cv2.waitKey(0)\n",
    "    if key != -1 and chr(key) in ('q', 'Q'):\n",
    "        print(\"You Closed the video\")\n",
    "        break\n",
    "        \n",
    "    \n",
    "cv2.destroyAllWindows()\n",
    "cap.release()"
   ]
  },
  {
   "cell_type": "code",
   "execution_count": 5,
   "id": "2a5fd791",
   "metadata": {},
   "outputs": [],
   "source": [
    "#help(cv2.waitKey)\n",
    "#help(cv2.VideoCapture)"
   ]
  },
  {
   "cell_type": "code",
   "execution_count": null,
   "id": "7a904bb1",
   "metadata": {},
   "outputs": [],
   "source": []
  }
 ],
 "metadata": {
  "kernelspec": {
   "display_name": "Python 3 (ipykernel)",
   "language": "python",
   "name": "python3"
  },
  "language_info": {
   "codemirror_mode": {
    "name": "ipython",
    "version": 3
   },
   "file_extension": ".py",
   "mimetype": "text/x-python",
   "name": "python",
   "nbconvert_exporter": "python",
   "pygments_lexer": "ipython3",
   "version": "3.10.4"
  }
 },
 "nbformat": 4,
 "nbformat_minor": 5
}
