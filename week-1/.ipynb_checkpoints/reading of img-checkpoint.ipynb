{
 "cells": [
  {
   "cell_type": "code",
   "execution_count": 1,
   "id": "af6d3144",
   "metadata": {},
   "outputs": [],
   "source": [
    "import cv2"
   ]
  },
  {
   "cell_type": "code",
   "execution_count": 5,
   "id": "2c78e193",
   "metadata": {},
   "outputs": [
    {
     "name": "stdout",
     "output_type": "stream",
     "text": [
      "Image properties : \n",
      "no of pixels : 13029120\n",
      "shape : (1508, 2880, 3)\n"
     ]
    }
   ],
   "source": [
    "img = cv2.imread(\"../images/sky.jpg\")\n",
    "\n",
    "print(\"Image properties : \")\n",
    "print(f\"no of pixels : {img.size}\")\n",
    "print(f\"shape : {img.shape}\")\n",
    "\n",
    "img = cv2.resize(img, (300, 300))\n",
    "\n",
    "cv2.imshow(\"Sky\", img)\n",
    "\n",
    "cv2.imwrite(\"../images/copy of sky.jpg\", img)\n",
    "\n",
    "cv2.waitKey(0)\n",
    "cv2.destroyAllWindows()"
   ]
  },
  {
   "cell_type": "code",
   "execution_count": 3,
   "id": "aa1ccbb8",
   "metadata": {},
   "outputs": [],
   "source": [
    "#help(cv2.imshow)"
   ]
  },
  {
   "cell_type": "code",
   "execution_count": null,
   "id": "bedf68a2",
   "metadata": {},
   "outputs": [],
   "source": []
  }
 ],
 "metadata": {
  "kernelspec": {
   "display_name": "Python 3 (ipykernel)",
   "language": "python",
   "name": "python3"
  },
  "language_info": {
   "codemirror_mode": {
    "name": "ipython",
    "version": 3
   },
   "file_extension": ".py",
   "mimetype": "text/x-python",
   "name": "python",
   "nbconvert_exporter": "python",
   "pygments_lexer": "ipython3",
   "version": "3.10.4"
  },
  "vscode": {
   "interpreter": {
    "hash": "cd54ff46e4251fe0a46f903cca0c8aff900098562f2fe569ebafc85f4881e67a"
   }
  }
 },
 "nbformat": 4,
 "nbformat_minor": 5
}
