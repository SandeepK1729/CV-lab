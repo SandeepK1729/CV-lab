{
 "cells": [
  {
   "cell_type": "code",
   "execution_count": 1,
   "id": "ed3f259b",
   "metadata": {},
   "outputs": [],
   "source": [
    "import cv2\n",
    "import numpy as np"
   ]
  },
  {
   "cell_type": "code",
   "execution_count": 7,
   "id": "53dcfa88",
   "metadata": {},
   "outputs": [],
   "source": [
    "img = cv2.resize(cv2.imread('images/sky.jpg'), (300, 300))\n",
    "hsv_img = cv2.cvtColor(img, cv2.COLOR_BGR2HSV)"
   ]
  },
  {
   "cell_type": "code",
   "execution_count": 8,
   "id": "708e83f6",
   "metadata": {},
   "outputs": [],
   "source": [
    "img = img.astype(np.float32) "
   ]
  },
  {
   "cell_type": "code",
   "execution_count": 9,
   "id": "091b8032",
   "metadata": {},
   "outputs": [],
   "source": [
    "y = 1 - img[..., 0]\n",
    "m = 1 - img[..., 1]\n",
    "c = 1 - img[..., 2]"
   ]
  },
  {
   "cell_type": "code",
   "execution_count": 10,
   "id": "8ebc435e",
   "metadata": {},
   "outputs": [],
   "source": [
    "cmy_img = ((np.dstack((c, m, y))) * 255).astype(np.uint8)"
   ]
  },
  {
   "cell_type": "code",
   "execution_count": 11,
   "id": "a6201792",
   "metadata": {},
   "outputs": [],
   "source": [
    "cv2.imshow('original image', cv2.resize(cv2.imread('images/sky.jpg'), (300, 300)))\n",
    "cv2.imshow('hsv image', hsv_img)\n",
    "cv2.imshow('cmy image', cmy_img)\n",
    "\n",
    "cv2.imwrite(\"hsv image.jpg\", hsv_img)\n",
    "cv2.imwrite(\"cmy image.jpg\", cmy_img)\n",
    "\n",
    "cv2.waitKey(0)\n",
    "cv2.destroyAllWindows()"
   ]
  },
  {
   "cell_type": "code",
   "execution_count": null,
   "id": "0a37b394",
   "metadata": {},
   "outputs": [],
   "source": []
  }
 ],
 "metadata": {
  "kernelspec": {
   "display_name": "Python 3 (ipykernel)",
   "language": "python",
   "name": "python3"
  },
  "language_info": {
   "codemirror_mode": {
    "name": "ipython",
    "version": 3
   },
   "file_extension": ".py",
   "mimetype": "text/x-python",
   "name": "python",
   "nbconvert_exporter": "python",
   "pygments_lexer": "ipython3",
   "version": "3.10.4"
  }
 },
 "nbformat": 4,
 "nbformat_minor": 5
}
