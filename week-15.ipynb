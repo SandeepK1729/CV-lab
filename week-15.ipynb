{
 "cells": [
  {
   "cell_type": "code",
   "execution_count": 1,
   "id": "502a81bf",
   "metadata": {},
   "outputs": [],
   "source": [
    "import cv2\n",
    "import numpy as np"
   ]
  },
  {
   "cell_type": "code",
   "execution_count": 2,
   "id": "36075824",
   "metadata": {},
   "outputs": [],
   "source": [
    "labels = np.array([1, -1, -1, -1])"
   ]
  },
  {
   "cell_type": "code",
   "execution_count": 3,
   "id": "a84006ee",
   "metadata": {},
   "outputs": [],
   "source": [
    "training_data = np.matrix(\n",
    "                    [\n",
    "                        [501, 10],\n",
    "                        [255, 10],\n",
    "                        [501, 255],\n",
    "                        [10, 501]\n",
    "                    ],\n",
    "                    dtype = np.float32\n",
    "                )"
   ]
  },
  {
   "cell_type": "code",
   "execution_count": 9,
   "id": "0e3f2879",
   "metadata": {},
   "outputs": [],
   "source": [
    "svm = cv2.ml.SVM_create()\n",
    "svm.setType(cv2.ml.SVM_C_SVC)\n",
    "svm.setKernel(cv2.ml.SVM_LINEAR)\n",
    "svm.train(\n",
    "    training_data, \n",
    "    cv2.ml.ROW_SAMPLE, \n",
    "    labels\n",
    ")"
   ]
  },
  {
   "cell_type": "code",
   "execution_count": 14,
   "id": "4c26bfd1",
   "metadata": {},
   "outputs": [],
   "source": [
    "width, height = 512, 512\n",
    "img = np.zeros((width, height, 3), dtype = np.uint8)\n",
    "\n",
    "r, g, b = (0, 0, 255), (0, 255, 0), (255, 0, 0)"
   ]
  },
  {
   "cell_type": "code",
   "execution_count": 15,
   "id": "8fa6f6c3",
   "metadata": {},
   "outputs": [
    {
     "ename": "error",
     "evalue": "OpenCV(4.6.0) D:\\a\\opencv-python\\opencv-python\\opencv\\modules\\ml\\src\\svm.cpp:2013: error: (-215:Assertion failed) samples.cols == var_count && samples.type() == CV_32F in function 'cv::ml::SVMImpl::predict'\n",
     "output_type": "error",
     "traceback": [
      "\u001b[1;31m---------------------------------------------------------------------------\u001b[0m",
      "\u001b[1;31merror\u001b[0m                                     Traceback (most recent call last)",
      "Input \u001b[1;32mIn [15]\u001b[0m, in \u001b[0;36m<cell line: 1>\u001b[1;34m()\u001b[0m\n\u001b[0;32m      2\u001b[0m \u001b[38;5;28;01mfor\u001b[39;00m j \u001b[38;5;129;01min\u001b[39;00m \u001b[38;5;28mrange\u001b[39m(height):\n\u001b[0;32m      3\u001b[0m     sample_mat \u001b[38;5;241m=\u001b[39m np\u001b[38;5;241m.\u001b[39mmatrix([i, j], dtype \u001b[38;5;241m=\u001b[39m np\u001b[38;5;241m.\u001b[39mfloat32)\n\u001b[1;32m----> 4\u001b[0m     response   \u001b[38;5;241m=\u001b[39m \u001b[43msvm\u001b[49m\u001b[38;5;241;43m.\u001b[39;49m\u001b[43mpredict\u001b[49m\u001b[43m(\u001b[49m\u001b[43msample_mat\u001b[49m\u001b[43m)\u001b[49m[\u001b[38;5;241m1\u001b[39m]\n\u001b[0;32m      6\u001b[0m     img[i, j]  \u001b[38;5;241m=\u001b[39m g \u001b[38;5;28;01mif\u001b[39;00m response \u001b[38;5;241m==\u001b[39m \u001b[38;5;241m1\u001b[39m \u001b[38;5;28;01melse\u001b[39;00m b \u001b[38;5;28;01mif\u001b[39;00m response \u001b[38;5;241m==\u001b[39m \u001b[38;5;241m-\u001b[39m\u001b[38;5;241m1\u001b[39m \u001b[38;5;28;01melse\u001b[39;00m \u001b[38;5;124m'\u001b[39m\u001b[38;5;124m'\u001b[39m\n",
      "\u001b[1;31merror\u001b[0m: OpenCV(4.6.0) D:\\a\\opencv-python\\opencv-python\\opencv\\modules\\ml\\src\\svm.cpp:2013: error: (-215:Assertion failed) samples.cols == var_count && samples.type() == CV_32F in function 'cv::ml::SVMImpl::predict'\n"
     ]
    }
   ],
   "source": [
    "for i in range(width):\n",
    "    for j in range(height):\n",
    "        sample_mat = np.matrix([i, j], dtype = np.float32)\n",
    "        response   = svm.predict(sample_mat)[1]\n",
    "        \n",
    "        img[i, j]  = g if response == 1 else b if response == -1 else '' "
   ]
  },
  {
   "cell_type": "code",
   "execution_count": null,
   "id": "747fae66",
   "metadata": {},
   "outputs": [],
   "source": []
  }
 ],
 "metadata": {
  "kernelspec": {
   "display_name": "Python 3 (ipykernel)",
   "language": "python",
   "name": "python3"
  },
  "language_info": {
   "codemirror_mode": {
    "name": "ipython",
    "version": 3
   },
   "file_extension": ".py",
   "mimetype": "text/x-python",
   "name": "python",
   "nbconvert_exporter": "python",
   "pygments_lexer": "ipython3",
   "version": "3.10.4"
  }
 },
 "nbformat": 4,
 "nbformat_minor": 5
}
